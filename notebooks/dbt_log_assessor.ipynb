{
 "cells": [
  {
   "cell_type": "code",
   "execution_count": null,
   "id": "0",
   "metadata": {},
   "outputs": [],
   "source": [
    "from pathlib import Path\n",
    "import re\n",
    "import pandas as pd\n",
    "import holoviews as hv\n",
    "from holoviews import opts\n",
    "\n",
    "hv.extension(\"bokeh\")"
   ]
  },
  {
   "cell_type": "code",
   "execution_count": null,
   "id": "1",
   "metadata": {},
   "outputs": [],
   "source": [
    "opts.defaults(opts.BoxWhisker(height=1200, width=1200))"
   ]
  },
  {
   "cell_type": "code",
   "execution_count": null,
   "id": "2",
   "metadata": {},
   "outputs": [],
   "source": [
    "log = Path(\"../dbt_logs/dbt.log\").read_text()"
   ]
  },
  {
   "cell_type": "code",
   "execution_count": null,
   "id": "3",
   "metadata": {},
   "outputs": [],
   "source": [
    "pattern = re.compile(\n",
    "    r\"created sql incremental|table model prod.([a-z_]+).+in ([0-9\\.]+)s\",\n",
    "    flags=re.IGNORECASE,\n",
    ")\n",
    "\n",
    "r = pattern.findall(log)\n",
    "\n",
    "df = pd.DataFrame(r, columns=[\"model\", \"build_time\"])\n",
    "\n",
    "df.build_time = df.build_time.replace(\"\", None).astype(float)\n",
    "\n",
    "df = df.sort_values(\"build_time\", ascending=False)\n",
    "\n",
    "df[\"build_time_minutes\"] = df.build_time / 60"
   ]
  },
  {
   "cell_type": "code",
   "execution_count": null,
   "id": "4",
   "metadata": {},
   "outputs": [],
   "source": [
    "df.groupby(\"model\").build_time.describe()"
   ]
  },
  {
   "cell_type": "code",
   "execution_count": null,
   "id": "5",
   "metadata": {},
   "outputs": [],
   "source": [
    "p = hv.BoxWhisker(\n",
    "    df[df.build_time >= 60], kdims=[\"model\"], vdims=[\"build_time_minutes\"]\n",
    ")\n",
    "p.opts(\n",
    "    opts.BoxWhisker(\n",
    "        invert_axes=True,\n",
    "        show_grid=True,\n",
    "        title=\"Build times for models in dbt tranformation pipeline\",\n",
    "    )\n",
    ")"
   ]
  },
  {
   "cell_type": "code",
   "execution_count": null,
   "id": "6",
   "metadata": {},
   "outputs": [],
   "source": []
  },
  {
   "cell_type": "code",
   "execution_count": null,
   "id": "7",
   "metadata": {},
   "outputs": [],
   "source": [
    "log_source = Path(\"../dbt_logs/dbt_source.log\").read_text()\n",
    "pattern = re.compile(\n",
    "    r\"created sql incremental|table model source.([a-z_]+).+in ([0-9\\.]+)s\",\n",
    "    flags=re.IGNORECASE,\n",
    ")\n",
    "r = pattern.findall(log_source)\n",
    "\n",
    "df = pd.DataFrame(r, columns=[\"model\", \"build_time\"])\n",
    "\n",
    "df.build_time = df.build_time.replace(\"\", None).astype(float)\n",
    "\n",
    "df = df.sort_values(\"build_time\", ascending=False)\n",
    "\n",
    "df[\"build_time_minutes\"] = df.build_time / 60"
   ]
  },
  {
   "cell_type": "code",
   "execution_count": null,
   "id": "8",
   "metadata": {},
   "outputs": [],
   "source": [
    "len(r)"
   ]
  },
  {
   "cell_type": "code",
   "execution_count": null,
   "id": "9",
   "metadata": {},
   "outputs": [],
   "source": [
    "df.groupby(\"model\").build_time.describe()"
   ]
  },
  {
   "cell_type": "code",
   "execution_count": null,
   "id": "10",
   "metadata": {},
   "outputs": [],
   "source": [
    "p = hv.BoxWhisker(\n",
    "    df[df.build_time >= 30], kdims=[\"model\"], vdims=[\"build_time_minutes\"]\n",
    ")\n",
    "p.opts(\n",
    "    opts.BoxWhisker(\n",
    "        invert_axes=True,\n",
    "        show_grid=True,\n",
    "        title=\"Build times for models in dbt extract-load pipeline (>=0.5minutes)\",\n",
    "    )\n",
    ")"
   ]
  },
  {
   "cell_type": "markdown",
   "id": "11",
   "metadata": {},
   "source": [
    "## Timing info"
   ]
  },
  {
   "cell_type": "code",
   "execution_count": null,
   "id": "12",
   "metadata": {},
   "outputs": [],
   "source": [
    "pattern = re.compile(\n",
    "    r\"Timing info for model.dbt_omop.([a-z_]+) \\(execute\\): (.+) => (.+)\",\n",
    "    flags=re.IGNORECASE,\n",
    ")"
   ]
  },
  {
   "cell_type": "code",
   "execution_count": null,
   "id": "13",
   "metadata": {},
   "outputs": [],
   "source": [
    "r = pattern.findall(log)\n",
    "\n",
    "df = pd.DataFrame(r, columns=[\"model\", \"start_time\", \"end_time\"])\n",
    "\n",
    "df.start_time = pd.to_datetime(df.start_time)\n",
    "df.end_time = pd.to_datetime(df.end_time)\n",
    "\n",
    "df[\"start_date\"] = df.start_time.dt.date\n",
    "\n",
    "dbt_start_time = (\n",
    "    df.groupby(\"start_date\").start_time.min().rename(\"dbt_start_time\").reset_index()\n",
    ")\n",
    "\n",
    "df = df.merge(dbt_start_time, on=\"start_date\")\n",
    "\n",
    "df[\"start_time_offset\"] = (df.start_time - df.dbt_start_time).dt.seconds / 60\n",
    "df[\"end_time_offset\"] = (df.end_time - df.dbt_start_time).dt.seconds / 60\n",
    "\n",
    "df[\"build_time\"] = (df.end_time - df.start_time).dt.seconds\n",
    "\n",
    "df"
   ]
  },
  {
   "cell_type": "code",
   "execution_count": null,
   "id": "14",
   "metadata": {},
   "outputs": [],
   "source": [
    "x = df.groupby(\"model\")[[\"start_time_offset\", \"end_time_offset\", \"build_time\"]].mean()\n",
    "\n",
    "x = x.reset_index()\n",
    "x[\"model_sort_order\"] = x.model.apply(lambda x: x.split(\"__\")[-1])\n",
    "\n",
    "\n",
    "x = x.sort_values([\"end_time_offset\", \"model_sort_order\", \"model\"])"
   ]
  },
  {
   "cell_type": "code",
   "execution_count": null,
   "id": "15",
   "metadata": {},
   "outputs": [],
   "source": [
    "p = hv.Segments(\n",
    "    x.loc[(~x.model.str.contains(\"src_\")) & (x.end_time_offset < 180)],\n",
    "    kdims=[\"start_time_offset\", \"model\", \"end_time_offset\", \"model\"],\n",
    ")\n",
    "p.opts(opts.Segments(width=1200, height=1800, line_width=10, show_grid=True))"
   ]
  },
  {
   "cell_type": "code",
   "execution_count": null,
   "id": "16",
   "metadata": {},
   "outputs": [],
   "source": []
  }
 ],
 "metadata": {
  "kernelspec": {
   "display_name": "Python 3 (ipykernel)",
   "language": "python",
   "name": "python3"
  },
  "language_info": {
   "codemirror_mode": {
    "name": "ipython",
    "version": 3
   },
   "file_extension": ".py",
   "mimetype": "text/x-python",
   "name": "python",
   "nbconvert_exporter": "python",
   "pygments_lexer": "ipython3",
   "version": "3.12.7"
  }
 },
 "nbformat": 4,
 "nbformat_minor": 5
}
