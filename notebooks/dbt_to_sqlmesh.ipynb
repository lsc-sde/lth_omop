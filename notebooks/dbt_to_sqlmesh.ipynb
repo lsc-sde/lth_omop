{
 "cells": [
  {
   "cell_type": "code",
   "execution_count": 1,
   "id": "8e36c2cc-e19c-4f86-a0de-b6bda61c6725",
   "metadata": {},
   "outputs": [],
   "source": [
    "from pathlib import Path"
   ]
  },
  {
   "cell_type": "code",
   "execution_count": 2,
   "id": "5da8f34e-1f58-4f7b-be10-0cd51603e317",
   "metadata": {},
   "outputs": [],
   "source": [
    "TEMPLATE_DDL = \"\"\"\n",
    "MODEL (\n",
    "  name {schema}.{model},\n",
    "  kind {kind},\n",
    "  cron '@daily'\n",
    ");\n",
    "\"\"\""
   ]
  },
  {
   "cell_type": "raw",
   "id": "77f25310-6cdb-4c36-b439-41d0ee3b4cee",
   "metadata": {},
   "source": [
    "# Replace dbt config with SQLMesh DDL\n",
    "files = list(Path('../models/').glob('**/*.sql'))\n",
    "\n",
    "for f in files:\n",
    "    lines = f.read_text().split('\\n')\n",
    "    \n",
    "    config = []\n",
    "    model = []\n",
    "    start = False\n",
    "    for l in lines:\n",
    "        if l.strip() == '{{':\n",
    "            start = True\n",
    "    \n",
    "        if l.strip() == '}}':\n",
    "            start = False\n",
    "            config.append(l)\n",
    "            continue\n",
    "        \n",
    "        if start==True:\n",
    "            if 'view' in l.lower():\n",
    "                kind = 'VIEW'\n",
    "            else:\n",
    "                kind = 'FULL'\n",
    "            config.append(l)\n",
    "        else:\n",
    "            model.append(l)\n",
    "    \n",
    "    ddl = TEMPLATE_DDL.format(schema='lth_bronze', model=f.stem, kind=kind)\n",
    "    \n",
    "    out = ddl + '\\n'.join(model)\n",
    "    f.write_text(out)"
   ]
  },
  {
   "cell_type": "code",
   "execution_count": 2,
   "id": "be4f16f7-f35e-4d54-8a5d-c703f23a96e3",
   "metadata": {},
   "outputs": [],
   "source": [
    "# Generate seed models\n",
    "files = list(Path('../seeds').glob('**/*.csv'))"
   ]
  },
  {
   "cell_type": "code",
   "execution_count": 4,
   "id": "7cfd3939-a4d5-4ad0-a119-2494d837988b",
   "metadata": {},
   "outputs": [],
   "source": [
    "TEMPLATE_SEED = \"\"\"\n",
    "MODEL (\n",
    "  name {schema}.{model},\n",
    "  kind SEED (\n",
    "    path '$root/seeds/{model}.csv'\n",
    "  )\n",
    ");\n",
    "\"\"\""
   ]
  },
  {
   "cell_type": "code",
   "execution_count": 5,
   "id": "a579c388-4e63-4c3e-92e5-5a6e14a70d66",
   "metadata": {},
   "outputs": [],
   "source": [
    "f = files[0]"
   ]
  },
  {
   "cell_type": "code",
   "execution_count": 7,
   "id": "6f078212-7077-4d88-951f-421636883388",
   "metadata": {},
   "outputs": [
    {
     "name": "stdout",
     "output_type": "stream",
     "text": [
      "\n",
      "MODEL (\n",
      "  name lth_bronze.cdc__updated_at_default,\n",
      "  kind SEED (\n",
      "    path '$root/seeds/cdc__updated_at_default.csv'\n",
      "  )\n",
      ");\n",
      "\n"
     ]
    }
   ],
   "source": [
    "print(TEMPLATE_SEED.format(schema='lth_bronze', model=f.stem))"
   ]
  },
  {
   "cell_type": "code",
   "execution_count": 8,
   "id": "4745dc58-e2da-445c-b9ce-7866c40f8364",
   "metadata": {},
   "outputs": [],
   "source": [
    "dest = Path('../models/seeds/')\n",
    "for f in files:\n",
    "    out = TEMPLATE_SEED.format(schema='lth_bronze', model=f.stem)\n",
    "    dest.joinpath(f.stem + '.sql').write_text(out)"
   ]
  },
  {
   "cell_type": "code",
   "execution_count": null,
   "id": "563dcbf3-139d-42d6-83fc-4ebec0d13e0f",
   "metadata": {},
   "outputs": [],
   "source": []
  }
 ],
 "metadata": {
  "kernelspec": {
   "display_name": "Python 3 (ipykernel)",
   "language": "python",
   "name": "python3"
  },
  "language_info": {
   "codemirror_mode": {
    "name": "ipython",
    "version": 3
   },
   "file_extension": ".py",
   "mimetype": "text/x-python",
   "name": "python",
   "nbconvert_exporter": "python",
   "pygments_lexer": "ipython3",
   "version": "3.13.0"
  }
 },
 "nbformat": 4,
 "nbformat_minor": 5
}
