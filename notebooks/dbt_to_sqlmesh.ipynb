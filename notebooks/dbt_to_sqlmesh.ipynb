{
 "cells": [
  {
   "cell_type": "code",
   "execution_count": 1,
   "id": "8e36c2cc-e19c-4f86-a0de-b6bda61c6725",
   "metadata": {},
   "outputs": [],
   "source": [
    "from pathlib import Path"
   ]
  },
  {
   "cell_type": "code",
   "execution_count": 2,
   "id": "5da8f34e-1f58-4f7b-be10-0cd51603e317",
   "metadata": {},
   "outputs": [],
   "source": [
    "TEMPLATE_DDL = \"\"\"\n",
    "MODEL (\n",
    "  name {schema}.{model},\n",
    "  kind {kind},\n",
    "  cron '@daily'\n",
    ");\n",
    "\"\"\""
   ]
  },
  {
   "cell_type": "code",
   "execution_count": 5,
   "id": "ed1f1017-dcd0-44b2-afbe-f919654b4573",
   "metadata": {},
   "outputs": [],
   "source": [
    "files = list(Path('../models/').glob('**/*.sql'))"
   ]
  },
  {
   "cell_type": "code",
   "execution_count": 6,
   "id": "d8e0aff4-3e9b-413f-a3aa-56b747cb4e5c",
   "metadata": {},
   "outputs": [
    {
     "data": {
      "text/plain": [
       "156"
      ]
     },
     "execution_count": 6,
     "metadata": {},
     "output_type": "execute_result"
    }
   ],
   "source": [
    "len(files)"
   ]
  },
  {
   "cell_type": "code",
   "execution_count": 36,
   "id": "60bb1075-aa45-4367-95d7-9baadf81a17d",
   "metadata": {},
   "outputs": [],
   "source": [
    "f = files[0]"
   ]
  },
  {
   "cell_type": "code",
   "execution_count": 42,
   "id": "48ce9129-49c0-4d32-98a4-1c6faa03bd15",
   "metadata": {},
   "outputs": [],
   "source": [
    "for f in files:\n",
    "    lines = f.read_text().split('\\n')\n",
    "    \n",
    "    config = []\n",
    "    model = []\n",
    "    start = False\n",
    "    for l in lines:\n",
    "        if l.strip() == '{{':\n",
    "            start = True\n",
    "    \n",
    "        if l.strip() == '}}':\n",
    "            start = False\n",
    "            config.append(l)\n",
    "            continue\n",
    "        \n",
    "        if start==True:\n",
    "            if 'view' in l.lower():\n",
    "                kind = 'VIEW'\n",
    "            else:\n",
    "                kind = 'FULL'\n",
    "            config.append(l)\n",
    "        else:\n",
    "            model.append(l)\n",
    "    \n",
    "    ddl = TEMPLATE_DDL.format(schema='lth_bronze', model=f.stem, kind=kind)\n",
    "    \n",
    "    out = ddl + '\\n'.join(model)\n",
    "    f.write_text(out)"
   ]
  },
  {
   "cell_type": "code",
   "execution_count": null,
   "id": "be4f16f7-f35e-4d54-8a5d-c703f23a96e3",
   "metadata": {},
   "outputs": [],
   "source": []
  }
 ],
 "metadata": {
  "kernelspec": {
   "display_name": "Python 3 (ipykernel)",
   "language": "python",
   "name": "python3"
  },
  "language_info": {
   "codemirror_mode": {
    "name": "ipython",
    "version": 3
   },
   "file_extension": ".py",
   "mimetype": "text/x-python",
   "name": "python",
   "nbconvert_exporter": "python",
   "pygments_lexer": "ipython3",
   "version": "3.13.0"
  }
 },
 "nbformat": 4,
 "nbformat_minor": 5
}
