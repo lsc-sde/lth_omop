{
 "cells": [
  {
   "cell_type": "code",
   "execution_count": 1,
   "id": "8e36c2cc-e19c-4f86-a0de-b6bda61c6725",
   "metadata": {},
   "outputs": [],
   "source": [
    "from pathlib import Path"
   ]
  },
  {
   "cell_type": "code",
   "execution_count": 2,
   "id": "5da8f34e-1f58-4f7b-be10-0cd51603e317",
   "metadata": {},
   "outputs": [],
   "source": [
    "TEMPLATE_DDL = \"\"\"\n",
    "MODEL (\n",
    "  name {schema}.{model},\n",
    "  kind {kind},\n",
    "  cron '@daily'\n",
    ");\n",
    "\"\"\""
   ]
  },
  {
   "cell_type": "code",
   "execution_count": 5,
   "id": "ed1f1017-dcd0-44b2-afbe-f919654b4573",
   "metadata": {},
   "outputs": [],
   "source": [
    "files = list(Path('../models/').glob('**/*.sql'))"
   ]
  },
  {
   "cell_type": "code",
   "execution_count": 6,
   "id": "d8e0aff4-3e9b-413f-a3aa-56b747cb4e5c",
   "metadata": {},
   "outputs": [
    {
     "data": {
      "text/plain": [
       "156"
      ]
     },
     "execution_count": 6,
     "metadata": {},
     "output_type": "execute_result"
    }
   ],
   "source": [
    "len(files)"
   ]
  },
  {
   "cell_type": "code",
   "execution_count": 7,
   "id": "60bb1075-aa45-4367-95d7-9baadf81a17d",
   "metadata": {},
   "outputs": [],
   "source": [
    "f = files[0]"
   ]
  },
  {
   "cell_type": "code",
   "execution_count": 11,
   "id": "17fe0629-7301-4fdf-87a0-77d8dd801fe8",
   "metadata": {},
   "outputs": [],
   "source": [
    "lines = f.read_text().split('\\n')"
   ]
  },
  {
   "cell_type": "code",
   "execution_count": 30,
   "id": "1893a471-e205-488e-a1bb-5159dc9f3bb4",
   "metadata": {},
   "outputs": [],
   "source": [
    "config = []\n",
    "model = []\n",
    "start = False\n",
    "for l in lines:\n",
    "    if l.strip() == '{{':\n",
    "        start = True\n",
    "\n",
    "    if l.strip() == '}}':\n",
    "        start = False\n",
    "        config.append(l)\n",
    "        continue\n",
    "    \n",
    "    if start==True:\n",
    "        if 'view' in l.lower():\n",
    "            kind = 'VIEW'\n",
    "        else:\n",
    "            kind = 'FULL'\n",
    "        config.append(l)\n",
    "    else:\n",
    "        model.append(l)"
   ]
  },
  {
   "cell_type": "code",
   "execution_count": 21,
   "id": "d5d31e69-5276-4eb0-a1e0-7f2bb9d160c6",
   "metadata": {},
   "outputs": [
    {
     "data": {
      "text/plain": [
       "'cdc_bi__referrals'"
      ]
     },
     "execution_count": 21,
     "metadata": {},
     "output_type": "execute_result"
    }
   ],
   "source": [
    "f.stem"
   ]
  },
  {
   "cell_type": "code",
   "execution_count": 24,
   "id": "2790c84e-1d4c-4824-8d7a-e6ce58d4a48c",
   "metadata": {},
   "outputs": [
    {
     "data": {
      "text/plain": [
       "\"\\nMODEL (\\n  name lth_bronze.cdc_bi__referrals,\\n  kind FULL,\\n  cron '@daily',\\n);\\n\""
      ]
     },
     "execution_count": 24,
     "metadata": {},
     "output_type": "execute_result"
    }
   ],
   "source": [
    "TEMPLATE_DDL.format(schema='lth_bronze', model=f.stem, kind=kind)"
   ]
  },
  {
   "cell_type": "code",
   "execution_count": 32,
   "id": "f27ca948-dbcf-483f-903d-d1b1b73761b7",
   "metadata": {},
   "outputs": [
    {
     "ename": "NameError",
     "evalue": "name 'ddl' is not defined",
     "output_type": "error",
     "traceback": [
      "\u001b[1;31m---------------------------------------------------------------------------\u001b[0m",
      "\u001b[1;31mNameError\u001b[0m                                 Traceback (most recent call last)",
      "Cell \u001b[1;32mIn[32], line 1\u001b[0m\n\u001b[1;32m----> 1\u001b[0m \u001b[43mddl\u001b[49m \u001b[38;5;241m+\u001b[39m \u001b[38;5;124m'\u001b[39m\u001b[38;5;130;01m\\n\u001b[39;00m\u001b[38;5;124m'\u001b[39m\u001b[38;5;241m.\u001b[39mjoin(model)\n",
      "\u001b[1;31mNameError\u001b[0m: name 'ddl' is not defined"
     ]
    }
   ],
   "source": [
    "ddl + '\\n'.join(model)"
   ]
  },
  {
   "cell_type": "code",
   "execution_count": null,
   "id": "be4f16f7-f35e-4d54-8a5d-c703f23a96e3",
   "metadata": {},
   "outputs": [],
   "source": []
  }
 ],
 "metadata": {
  "kernelspec": {
   "display_name": "Python 3 (ipykernel)",
   "language": "python",
   "name": "python3"
  },
  "language_info": {
   "codemirror_mode": {
    "name": "ipython",
    "version": 3
   },
   "file_extension": ".py",
   "mimetype": "text/x-python",
   "name": "python",
   "nbconvert_exporter": "python",
   "pygments_lexer": "ipython3",
   "version": "3.13.0"
  }
 },
 "nbformat": 4,
 "nbformat_minor": 5
}
